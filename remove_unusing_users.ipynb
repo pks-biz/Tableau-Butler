{
 "cells": [
  {
   "cell_type": "markdown",
   "metadata": {},
   "source": [
    "# iPython notebook to parse Tableau workbook for users\n",
    "## Importing libraries"
   ]
  },
  {
   "cell_type": "code",
   "execution_count": null,
   "metadata": {},
   "outputs": [],
   "source": [
    "import os, argparse, keyring, re, configparser, warnings, urllib, requests\n",
    "from datetime import time, datetime\n",
    "from getpass import getpass\n",
    "warnings.filterwarnings('ignore')"
   ]
  },
  {
   "cell_type": "markdown",
   "metadata": {},
   "source": [
    "## Functions\n",
    "### Fn to sign in to Server"
   ]
  },
  {
   "cell_type": "code",
   "execution_count": null,
   "metadata": {},
   "outputs": [],
   "source": [
    "def sign_in(username, password, site=\"\"):\n",
    "    body = {\n",
    "        \"credentials\": {\n",
    "            \"name\": username,\n",
    "            \"password\": password,\n",
    "            \"site\": {\n",
    "                \"contentUrl\": site\n",
    "            }\n",
    "        }\n",
    "    }\n",
    "    credentials = requests.post(\n",
    "        URL + '/auth/signin', \n",
    "        json=body, \n",
    "        verify=False, \n",
    "        headers={'Accept': 'application/json'}\n",
    "    ).json()['credentials']\n",
    "    return credentials['site']['id'], credentials['token']"
   ]
  },
  {
   "cell_type": "markdown",
   "metadata": {},
   "source": [
    "### Fn to sign out from Server"
   ]
  },
  {
   "cell_type": "code",
   "execution_count": null,
   "metadata": {},
   "outputs": [],
   "source": [
    "def sign_out(site_id, token):\n",
    "    requests.post(\n",
    "        URL + '/auth/signout', \n",
    "        verify=False, \n",
    "        headers={'Accept': 'application/json',\n",
    "                'X-Tableau-Auth': token}\n",
    "    )"
   ]
  },
  {
   "cell_type": "markdown",
   "metadata": {},
   "source": [
    "### Fn to find workbooks"
   ]
  },
  {
   "cell_type": "code",
   "execution_count": null,
   "metadata": {},
   "outputs": [],
   "source": [
    "def find_workbooks(site_id, token, workbook_name):\n",
    "    response = requests.get(\n",
    "        URL + '/sites/{}/workbooks?filter=name:eq:{}'.format(site_id, workbook_name), \n",
    "        verify=False, \n",
    "        headers={\n",
    "            'Accept': 'application/json',\n",
    "            'X-Tableau-Auth': token\n",
    "        }\n",
    "    ).json()\n",
    "    return [workbook['id'] for workbook in response['workbooks']['workbook']]"
   ]
  },
  {
   "cell_type": "markdown",
   "metadata": {},
   "source": [
    "### Fn to find views in the workbook"
   ]
  },
  {
   "cell_type": "code",
   "execution_count": null,
   "metadata": {},
   "outputs": [],
   "source": [
    "def find_views(site_id, token, workbook_id, view_name):\n",
    "    response = requests.get(\n",
    "        URL + '/sites/{}/workbooks/{}'.format(site_id, workbook_id), \n",
    "        verify=False, \n",
    "        headers={\n",
    "            'Accept': 'application/json',\n",
    "            'X-Tableau-Auth': token\n",
    "        }\n",
    "    ).json()\n",
    "    for view in response['workbook']['views']['view']:\n",
    "        if view['name'] == view_name:\n",
    "            return view['id']\n",
    "    return 0"
   ]
  },
  {
   "cell_type": "markdown",
   "metadata": {},
   "source": [
    "### Fn to find the users on the Server with the username"
   ]
  },
  {
   "cell_type": "code",
   "execution_count": null,
   "metadata": {},
   "outputs": [],
   "source": [
    "def query_user(site_id, token, username):\n",
    "    query_response = requests.get(\n",
    "        URL + '/sites/{}/users?filter=name:eq:{}'.format(site_id, username), \n",
    "        verify=False, \n",
    "        headers={\n",
    "            'Accept': 'application/json',\n",
    "            'X-Tableau-Auth': token\n",
    "        }\n",
    "    ).json()\n",
    "    user_id = query_response['users']['user'][0]['id']\n",
    "    user_role = query_response['users']['user'][0]['siteRole']\n",
    "    \n",
    "    response = requests.get(\n",
    "        URL + '/sites/{}/users/{}'.format(site_id, user_id), \n",
    "        verify=False, \n",
    "        headers={\n",
    "            'Accept': 'application/json',\n",
    "            'X-Tableau-Auth': token\n",
    "        }\n",
    "    ).json()\n",
    "    \n",
    "    user_details = \"{} ({}) | {}\".format(response['user']['fullName'], response['user']['name'], response['user']['siteRole'])\n",
    "    return user_details, user_role"
   ]
  },
  {
   "cell_type": "markdown",
   "metadata": {},
   "source": [
    "### Fn to unlicense users on the Server"
   ]
  },
  {
   "cell_type": "code",
   "execution_count": null,
   "metadata": {},
   "outputs": [],
   "source": [
    "def unlicense_users(site_id, token, username):\n",
    "    query_response = requests.get(\n",
    "        URL + '/sites/{}/users?filter=name:eq:{}'.format(site_id, username), \n",
    "        verify=False, \n",
    "        headers={\n",
    "            'Accept': 'application/json',\n",
    "            'X-Tableau-Auth': token\n",
    "        }\n",
    "    ).json()\n",
    "    user_id = query_response['users']['user'][0]['id']\n",
    "    \n",
    "    unlicense_body = {\n",
    "        \"user\": {\n",
    "            \"siteRole\": \"Unlicensed\"\n",
    "        }\n",
    "    }\n",
    "    \n",
    "    response = requests.put(\n",
    "        URL + '/sites/{}/users/{}'.format(site_id, user_id), \n",
    "        json=unlicense_body, \n",
    "        verify=False, \n",
    "        headers={\n",
    "            'Accept': 'application/json',\n",
    "            'X-Tableau-Auth': token\n",
    "        }\n",
    "    ).json()\n",
    "    return response"
   ]
  },
  {
   "cell_type": "markdown",
   "metadata": {},
   "source": [
    "### Fn to read the data from a dashboard"
   ]
  },
  {
   "cell_type": "code",
   "execution_count": null,
   "metadata": {},
   "outputs": [],
   "source": [
    "def query_data(site_id, token, view_id):\n",
    "    response = requests.get(\n",
    "        URL + '/sites/{}/views/{}/data'.format(site_id, view_id), \n",
    "        verify=False, \n",
    "        headers={\n",
    "            'Accept': 'application/json',\n",
    "            'X-Tableau-Auth': token\n",
    "        }\n",
    "    ).text.splitlines()\n",
    "    response.remove(response[0])\n",
    "    return response"
   ]
  },
  {
   "cell_type": "markdown",
   "metadata": {},
   "source": [
    "## Variables"
   ]
  },
  {
   "cell_type": "code",
   "execution_count": null,
   "metadata": {},
   "outputs": [],
   "source": [
    "server = \"penguin.biztory.com\"\n",
    "site_content_url = \"PraveenSam\"\n",
    "api_ver = \"3.8\"\n",
    "username = \"praveen.sam@biztory.be\"\n",
    "\n",
    "URL = \"https://{}/api/{}\".format(server, api_ver)\n",
    "workbook_name = \"UnusedUsers\"\n",
    "view_name = \"Users not signed in last one month\"\n",
    "workbook_name = workbook_name.replace(\" \", \"+\")"
   ]
  },
  {
   "cell_type": "markdown",
   "metadata": {},
   "source": [
    "## Logging in to the Tableau Server"
   ]
  },
  {
   "cell_type": "code",
   "execution_count": null,
   "metadata": {},
   "outputs": [],
   "source": [
    "password = getpass(\"Enter your password for the Tableau Server: \")\n",
    "site_id, token = sign_in(username, password, site_content_url)"
   ]
  },
  {
   "cell_type": "markdown",
   "metadata": {},
   "source": [
    "## Open Log file"
   ]
  },
  {
   "cell_type": "code",
   "execution_count": null,
   "metadata": {},
   "outputs": [],
   "source": [
    "log_file = open(\"user_remove.log\", \"a+\")"
   ]
  },
  {
   "cell_type": "markdown",
   "metadata": {},
   "source": [
    "## Query users from dashboard"
   ]
  },
  {
   "cell_type": "code",
   "execution_count": null,
   "metadata": {},
   "outputs": [],
   "source": [
    "view_id = find_views(site_id, token, find_workbooks(site_id, token, workbook_name)[0], view_name)\n",
    "users_to_remove = query_data(site_id, token, view_id)"
   ]
  },
  {
   "cell_type": "code",
   "execution_count": null,
   "metadata": {},
   "outputs": [],
   "source": [
    "print(users_to_remove)"
   ]
  },
  {
   "cell_type": "markdown",
   "metadata": {},
   "source": [
    "## Write data to log"
   ]
  },
  {
   "cell_type": "code",
   "execution_count": null,
   "metadata": {},
   "outputs": [],
   "source": [
    "dt_string = datetime.now().strftime(\"%Y/%m/%d %H:%M:%S\")\n",
    "num_users_removed = len(users_to_remove)\n",
    "\n",
    "log_file.write(\"\\n\\n{}: User removal script run - {} users removed from the {} Site on {}\".format(dt_string, num_users_removed, site_content_url, server))"
   ]
  },
  {
   "cell_type": "markdown",
   "metadata": {},
   "source": [
    "## Unlicense users"
   ]
  },
  {
   "cell_type": "code",
   "execution_count": null,
   "metadata": {},
   "outputs": [],
   "source": [
    "for user in users_to_remove:\n",
    "    user_detail, user_role = query_user(site_id, token, user)\n",
    "    if user_role == \"ServerAdministrator\":\n",
    "        print(\"\\nCannot unlicense Server Administrator!! Skipped {}!\".format(user_detail))\n",
    "        log_file.write(\"\\nCannot unlicense Server Administrator!! Skipped {}!\".format(user_detail))\n",
    "    else:\n",
    "        print(\"\\nUnlicensed {} from {} site\".format(user_detail, site_content_url))\n",
    "        log_file.write(\"\\nUnlicensed {}...\".format(user_detail))\n",
    "        unlicense_users(site_id, token, user)"
   ]
  },
  {
   "cell_type": "markdown",
   "metadata": {},
   "source": [
    "## Signing out of the Tableau Server"
   ]
  },
  {
   "cell_type": "code",
   "execution_count": null,
   "metadata": {},
   "outputs": [],
   "source": [
    "print(\"\\n\\tSigning out of \" + server)\n",
    "sign_out(site_id,token)"
   ]
  },
  {
   "cell_type": "code",
   "execution_count": null,
   "metadata": {},
   "outputs": [],
   "source": []
  }
 ],
 "metadata": {
  "kernelspec": {
   "display_name": "Python 3",
   "language": "python",
   "name": "python3"
  },
  "language_info": {
   "codemirror_mode": {
    "name": "ipython",
    "version": 3
   },
   "file_extension": ".py",
   "mimetype": "text/x-python",
   "name": "python",
   "nbconvert_exporter": "python",
   "pygments_lexer": "ipython3",
   "version": "3.8.3"
  }
 },
 "nbformat": 4,
 "nbformat_minor": 4
}
